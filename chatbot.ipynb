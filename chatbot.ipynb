{
  "nbformat": 4,
  "nbformat_minor": 0,
  "metadata": {
    "colab": {
      "name": "chatbot.ipynb",
      "provenance": [],
      "collapsed_sections": [],
      "authorship_tag": "ABX9TyPbWEAlb7eVLHJx62/NsaZ6",
      "include_colab_link": true
    },
    "kernelspec": {
      "name": "python3",
      "display_name": "Python 3"
    },
    "accelerator": "GPU"
  },
  "cells": [
    {
      "cell_type": "markdown",
      "metadata": {
        "id": "view-in-github",
        "colab_type": "text"
      },
      "source": [
        "<a href=\"https://colab.research.google.com/github/sathya981/CovidBot/blob/master/chatbot.ipynb\" target=\"_parent\"><img src=\"https://colab.research.google.com/assets/colab-badge.svg\" alt=\"Open In Colab\"/></a>"
      ]
    },
    {
      "cell_type": "code",
      "metadata": {
        "id": "fMimfyKBsCI5",
        "colab_type": "code",
        "colab": {
          "base_uri": "https://localhost:8080/",
          "height": 122
        },
        "outputId": "9c4f1436-6784-49c5-c538-8f10c4c45377"
      },
      "source": [
        "from google.colab import drive\n",
        "drive.mount('/content/gdrive')"
      ],
      "execution_count": 1,
      "outputs": [
        {
          "output_type": "stream",
          "text": [
            "Go to this URL in a browser: https://accounts.google.com/o/oauth2/auth?client_id=947318989803-6bn6qk8qdgf4n4g3pfee6491hc0brc4i.apps.googleusercontent.com&redirect_uri=urn%3aietf%3awg%3aoauth%3a2.0%3aoob&response_type=code&scope=email%20https%3a%2f%2fwww.googleapis.com%2fauth%2fdocs.test%20https%3a%2f%2fwww.googleapis.com%2fauth%2fdrive%20https%3a%2f%2fwww.googleapis.com%2fauth%2fdrive.photos.readonly%20https%3a%2f%2fwww.googleapis.com%2fauth%2fpeopleapi.readonly\n",
            "\n",
            "Enter your authorization code:\n",
            "··········\n",
            "Mounted at /content/gdrive\n"
          ],
          "name": "stdout"
        }
      ]
    },
    {
      "cell_type": "code",
      "metadata": {
        "id": "0bLRwiCEEkms",
        "colab_type": "code",
        "colab": {}
      },
      "source": [
        "path = \"/content/gdrive/My Drive/model\" \n",
        "\n"
      ],
      "execution_count": 2,
      "outputs": []
    },
    {
      "cell_type": "code",
      "metadata": {
        "id": "pbEEw2FLiKmG",
        "colab_type": "code",
        "colab": {
          "base_uri": "https://localhost:8080/",
          "height": 68
        },
        "outputId": "54620595-08d4-432c-96ad-beffcaf6c0e2"
      },
      "source": [
        "import json\n",
        "import os\n",
        "import nltk\n",
        "import numpy as np\n",
        "from nltk.stem.lancaster import LancasterStemmer\n",
        "stemmer = LancasterStemmer()\n",
        "import random\n",
        "import pickle\n",
        "nltk.download('punkt')"
      ],
      "execution_count": 3,
      "outputs": [
        {
          "output_type": "stream",
          "text": [
            "[nltk_data] Downloading package punkt to /root/nltk_data...\n",
            "[nltk_data]   Unzipping tokenizers/punkt.zip.\n"
          ],
          "name": "stdout"
        },
        {
          "output_type": "execute_result",
          "data": {
            "text/plain": [
              "True"
            ]
          },
          "metadata": {
            "tags": []
          },
          "execution_count": 3
        }
      ]
    },
    {
      "cell_type": "code",
      "metadata": {
        "id": "DbhMNmClaKj2",
        "colab_type": "code",
        "colab": {
          "resources": {
            "http://localhost:8080/nbextensions/google.colab/files.js": {
              "data": "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",
              "ok": true,
              "headers": [
                [
                  "content-type",
                  "application/javascript"
                ]
              ],
              "status": 200,
              "status_text": ""
            }
          },
          "base_uri": "https://localhost:8080/",
          "height": 109
        },
        "outputId": "b1c3ffbc-427e-48ec-fdfc-4eda6314f5b7"
      },
      "source": [
        "from google.colab import files\n",
        "files.upload()\n"
      ],
      "execution_count": 4,
      "outputs": [
        {
          "output_type": "display_data",
          "data": {
            "text/html": [
              "\n",
              "     <input type=\"file\" id=\"files-c299d12b-a19e-413d-9c58-c553d924d488\" name=\"files[]\" multiple disabled\n",
              "        style=\"border:none\" />\n",
              "     <output id=\"result-c299d12b-a19e-413d-9c58-c553d924d488\">\n",
              "      Upload widget is only available when the cell has been executed in the\n",
              "      current browser session. Please rerun this cell to enable.\n",
              "      </output>\n",
              "      <script src=\"/nbextensions/google.colab/files.js\"></script> "
            ],
            "text/plain": [
              "<IPython.core.display.HTML object>"
            ]
          },
          "metadata": {
            "tags": []
          }
        },
        {
          "output_type": "stream",
          "text": [
            "Saving intents.json to intents.json\n"
          ],
          "name": "stdout"
        },
        {
          "output_type": "execute_result",
          "data": {
            "text/plain": [
              "{'intents.json': b'{\"intents\": [\\n        {\"tag\": \"greeting\",\\n         \"patterns\": [\"Hi there\", \"How are you\", \"Is anyone there?\",\"Hey\",\"Hola\", \"Hello\", \"Good day\"],\\n         \"responses\": [\"Hello, thanks for asking\", \"Good to see you again\", \"Hi there, how can I help?\"],\\n         \"context\": [\"\"]\\n        },\\n        {\"tag\": \"goodbye\",\\n         \"patterns\": [\"Bye\", \"See you later\", \"Goodbye\", \"Nice chatting to you, bye\", \"Till next time\"],\\n         \"responses\": [\"See you!\", \"Have a nice day\", \"Bye! Come back again soon.\"],\\n         \"context\": [\"\"]\\n        },\\n\\n \\t{\"tag\": \"rate\",\\n         \"patterns\": [\"What is death rate or fatality rate of the disease?\",\"What is death rate or fatality rate of coronavirus?\"],\\n         \"responses\": [\"The fatality rate of covid-19 is less than 3%\"],\\n         \"context\": [\"\"]\\n        },\\n\\t{\"tag\": \"pet\",\\n         \"patterns\": [\"Can my pet animal spread the disease?\",\" Can cats and dogs spread the disease?\"],\\n         \"responses\": [\"No evidence exists currently to prove that the novel coronavirus (nCoV) can spread from pet animals such as dogs and cats to humans.\"],\\n         \"context\": [\"\"]\\n        },\\n\\t{\"tag\": \"vaccine\",\\n         \"patterns\": [\"What are the vaccines available for coronvirus?\",\"Which vaccines are approved to treat the disease?\",\"What is the cure for the disease?\"],\\n         \"responses\": [\"No vaccines have been approved for coronavirus as yet, while few are being studied for development.\"],\\n         \"context\": [\"\"]\\n        },\\n\\n\\t{\"tag\": \"pass\",\\n         \"patterns\": [\"Can I move or travel from one state to another?\",\"What is the  procedure for interstate movement?\",\"I am stuck. How can I go to my native place?\"],\\n         \"responses\": [\"For interstate movement e-pass is mandated approved by the district collector. You can apply for e-pass in following site.\"],\\n         \"context\": [\"\"]\\n        },\\n        {\"tag\": \"thanks\",\\n         \"patterns\": [\"Thanks\", \"Thank you\", \"That\\'s helpful\", \"Awesome, thanks\", \"Thanks for helping me\"],\\n         \"responses\": [\"Happy to help!\", \"Any time!\", \"My pleasure\"],\\n         \"context\": [\"\"]\\n        },\\n        {\"tag\": \"coronavirus\",\\n         \"patterns\": [\"What is coronavirus?\",\"Can you please tell me about coronavirus?\",\"I would like to know about coronavirus\"],\\n         \"responses\": [\"Coronaviruses are a large family of viruses which may cause illness in animals or humans.In humans, several coronaviruses are known to cause respiratory infections ranging from the common cold to more severe diseases such as Middle East Respiratory Syndrome (MERS) and Severe Acute Respiratory Syndrome (SARS). The most recently discovered coronavirus causes coronavirus disease COVID-19.\"],\\n         \"context\": [\"\"]\\n        },\\n        {\"tag\": \"covid\",\\n         \"patterns\": [\"What is covid-19?\", \"What is novel coronavirus\"],\\n         \"responses\": [\"COVID-19 is the infectious disease caused by the most recently discovered coronavirus. This new virus and disease were unknown before the outbreak began in Wuhan, China, in December 2019. COVID-19 is now a pandemic affecting many countries globally.\"],\\n         \"context\": [\"\"]\\n        },\\n        {\"tag\": \"symptom\",\\n         \"patterns\": [\"What are the symptoms of covid-19?\",\" How does a coronavirus affected person feels?\" ],\\n         \"responses\": [\"mild to severe respiratory illness, cough, difficulty in breathing, fever, muscle pain, sore throat, headache, loss of taste or smell\"],\\n         \"context\": [\"\"]\\n        },\\n        {\"tag\": \"spread\",\\n         \"patterns\": [\"How  does covid-19 spread?\",\"Does coronavirus spreads?\",\"How does covid-19 transmits?\",\"Does covid -19 transmits from one person to another?\",\"What is the medium of transmission for covid-19?\" ],\\n         \"responses\": [\"Covid-19 spreads primarily from person to person through small droplets from the nose or mouth, which are expelled when a person with COVID-19 coughs, sneezes, or speaks. A person when exposed to covid-19 can develop its symptoms within 14 days.\"],\\n         \"context\": [\"\"]\\n        },\\n        {\"tag\": \"precautions\",\\n         \"patterns\": [\"What are the prevention steps in covid-19?\",\"What are precaution or prevention methods of disease or coronavirus\",\" How can I protect myself from the disease?\",\" Can you please help me out with precautionary measure?\" ],\\n         \"responses\": [\"Wash your hands often with soap and water or clean them with an alcohol-based sanitizer for about 20 seconds.Maintain social distancing and avoid social gathering.Wear masks in public.Avoid touching eyes, nose and mouth.Clean and disinfect your surroundings.\"],\\n         \"context\": [\"\"]\\n        },\\n        {\"tag\": \"first\",\\n         \"patterns\": [\"When did the disease first started in india?\",\"What is the first covid-19 case in india?\",\"Where was first covid -19 death reported?\"],\\n         \"responses\": [\"India reported the first confirmed case of the coronavirus infection on 30 January 2020 in the state of Kerala. The affected had a travel history from Wuhan, China\"],\\n         \"context\": [\"\"]\\n        },\\n        {\"tag\": \"helpline\",\\n         \"patterns\": [\"What to do if I suspect myself to be attacked by covid-19?\",\"What to do if I get corona virus symptoms?\",\"What to do if my relatives, parents or neighbours get coronavirus symptoms?\",\"What is covid-19 helpline number?\" ],\\n         \"responses\": [\"Central Helpline Number for corona-virus: - +91-11-23978046\"],\\n         \"context\": [\"\"]\\n        },\\n        {\"tag\": \"statistics\",\\n         \"patterns\": [\"What is the current statistics of coronavirus cases?\",\"How many are covid infected in my district, area, country or state\",\"how many recovered, active dead and diseased are there in my area\"],\\n         \"responses\": [\"corona virus statistics\"],\\n         \"context\": [\"\"]\\n        },\\n\\t{\"tag\": \"setu\",\\n         \"patterns\": [\"What is arogya setu app?\",\"Am I safe?\",\"How to analysize my risk level\",\"How to do contact tracing?\",\"Was I in contact with anyone who texted coronavirus positive?\"],\\n         \"responses\": [\"Aarogya Setu an Indian open-source mobile app, developed by the National Informatics Centre under the Ministry of Electronics and Information Technology (MeitY). It is used for Contact tracing, Syndromic mapping and Self-assessment. It is available at Google Play and App Store\"],\\n         \"context\": [\"\"]\\n        },\\n\\t{\"tag\": \"donate\",\\n         \"patterns\": [\"Can I contribute to nation fighting against disease coronavirus?\",\"How can I donate for the nation?\"],\\n         \"responses\": [\"You can contribute to nation in its fight against the deadly disease by giving donation or working as volunteers. For that, visit the site: https://www.pmcares.gov.in/en/\"],\\n         \"context\": [\"\"]\\n        }\\n\\n   ]\\n}\\n'}"
            ]
          },
          "metadata": {
            "tags": []
          },
          "execution_count": 4
        }
      ]
    },
    {
      "cell_type": "code",
      "metadata": {
        "id": "oHJ_zF7ram-g",
        "colab_type": "code",
        "colab": {}
      },
      "source": [
        "data=open('intents.json').read()\n",
        "intents = json.loads(data)\n",
        "\n"
      ],
      "execution_count": 5,
      "outputs": []
    },
    {
      "cell_type": "code",
      "metadata": {
        "id": "prw-64qcGgnw",
        "colab_type": "code",
        "colab": {}
      },
      "source": [
        "vocab=[]\n",
        "sentence=[]\n",
        "label=[]\n",
        "\n",
        "for intent in intents['intents']:\n",
        "    for pattern in intent['patterns']:\n",
        "        word_tokens=nltk.word_tokenize(pattern)\n",
        "        vocab.extend(word_tokens)\n",
        "        sentence.append((word_tokens,intent['tag']))\n",
        "    label.append(intent['tag'])\n"
      ],
      "execution_count": 6,
      "outputs": []
    },
    {
      "cell_type": "code",
      "metadata": {
        "id": "aRrJmxQ_EgJ1",
        "colab_type": "code",
        "colab": {}
      },
      "source": [
        "ignore_words=['?','!']\n",
        "\n",
        "vocab = [stemmer.stem(w.lower()) for w in vocab if w not in ignore_words]\n",
        "vocab = sorted(list(set(vocab)))\n",
        "# sort classes\n",
        "label = sorted(list(set(label)))"
      ],
      "execution_count": 7,
      "outputs": []
    },
    {
      "cell_type": "markdown",
      "metadata": {
        "id": "Gu7Xc6O_6Uuz",
        "colab_type": "text"
      },
      "source": [
        ""
      ]
    },
    {
      "cell_type": "code",
      "metadata": {
        "id": "xIcYYy4MIBK_",
        "colab_type": "code",
        "colab": {
          "base_uri": "https://localhost:8080/",
          "height": 34
        },
        "outputId": "12b89306-1987-4976-8681-b9a1817cf82c"
      },
      "source": [
        "\n",
        "\n",
        "f =open(\"/content/gdrive/My Drive/model/vocab.pkl\", \"wb\") \n",
        "pickle.dump(vocab,f)\n",
        "f.close()\n",
        "\n",
        "file= open(\"/content/gdrive/My Drive/model/label.pkl\", \"wb\") \n",
        "pickle.dump(label,file)\n",
        "file.close()\n",
        "\n",
        "\n",
        "\n",
        "\n",
        "training_data=[]\n",
        "for statement in sentence:\n",
        "    features=[stemmer.stem(w.lower()) for w in statement[0] ]\n",
        "    target=statement[1]\n",
        "    \n",
        "    bag=[0]*len(vocab)\n",
        "    \n",
        "    for w in vocab:\n",
        "        if w in features:\n",
        "            bag.append(1)\n",
        "        else:\n",
        "            bag.append(0)\n",
        "            \n",
        "    target_no=label.index(target)\n",
        "    target_row=[0]*len(label)\n",
        "    target_row[target_no]=1\n",
        "    training_data.append((bag,target_row))\n",
        "print(np.shape(bag))"
      ],
      "execution_count": 8,
      "outputs": [
        {
          "output_type": "stream",
          "text": [
            "(290,)\n"
          ],
          "name": "stdout"
        }
      ]
    },
    {
      "cell_type": "code",
      "metadata": {
        "id": "m0ViKMmaIFdR",
        "colab_type": "code",
        "colab": {
          "base_uri": "https://localhost:8080/",
          "height": 34
        },
        "outputId": "0605afe0-27d3-4fc7-a337-3378719d3d2e"
      },
      "source": [
        "random.shuffle(training_data)\n",
        "training_data=np.array(training_data)\n",
        "train_x=list(training_data[:,0])\n",
        "print(np.shape(train_x))\n",
        "train_y=list(training_data[:,1])"
      ],
      "execution_count": 9,
      "outputs": [
        {
          "output_type": "stream",
          "text": [
            "(60, 290)\n"
          ],
          "name": "stdout"
        }
      ]
    },
    {
      "cell_type": "code",
      "metadata": {
        "id": "m102NKMJIMc4",
        "colab_type": "code",
        "colab": {
          "base_uri": "https://localhost:8080/",
          "height": 1000
        },
        "outputId": "43723f63-e221-49f4-be03-e85f5380bbe0"
      },
      "source": [
        "from keras.models import Sequential\n",
        "from keras.layers import Dense, Activation, Dropout\n",
        "\n",
        "\n",
        "from keras.optimizers import adam\n",
        "\n",
        "\n",
        "model = Sequential()\n",
        "model.add(Dense(128, input_shape=(len(train_x[0]),), activation='relu'))\n",
        "model.add(Dropout(0.5))\n",
        "model.add(Dense(64, activation='relu'))\n",
        "model.add(Dropout(0.5))\n",
        "model.add(Dense(len(train_y[0]), activation='softmax'))\n",
        "\n",
        "model.compile(loss='categorical_crossentropy', optimizer='adam', metrics=['accuracy'])\n",
        "\n",
        "#fitting and saving the model \n",
        "model.fit(np.array(train_x), np.array(train_y), epochs=250, batch_size=5, verbose=1)\n"
      ],
      "execution_count": 10,
      "outputs": [
        {
          "output_type": "stream",
          "text": [
            "Using TensorFlow backend.\n"
          ],
          "name": "stderr"
        },
        {
          "output_type": "stream",
          "text": [
            "Epoch 1/250\n",
            "60/60 [==============================] - 2s 30ms/step - loss: 2.8037 - accuracy: 0.0667\n",
            "Epoch 2/250\n",
            "60/60 [==============================] - 0s 580us/step - loss: 2.7838 - accuracy: 0.1333\n",
            "Epoch 3/250\n",
            "60/60 [==============================] - 0s 567us/step - loss: 2.7661 - accuracy: 0.1000\n",
            "Epoch 4/250\n",
            "60/60 [==============================] - 0s 573us/step - loss: 2.6917 - accuracy: 0.1500\n",
            "Epoch 5/250\n",
            "60/60 [==============================] - 0s 549us/step - loss: 2.6721 - accuracy: 0.1833\n",
            "Epoch 6/250\n",
            "60/60 [==============================] - 0s 564us/step - loss: 2.6679 - accuracy: 0.1500\n",
            "Epoch 7/250\n",
            "60/60 [==============================] - 0s 559us/step - loss: 2.6315 - accuracy: 0.1667\n",
            "Epoch 8/250\n",
            "60/60 [==============================] - 0s 566us/step - loss: 2.5716 - accuracy: 0.2333\n",
            "Epoch 9/250\n",
            "60/60 [==============================] - 0s 586us/step - loss: 2.4757 - accuracy: 0.3500\n",
            "Epoch 10/250\n",
            "60/60 [==============================] - 0s 570us/step - loss: 2.4940 - accuracy: 0.2667\n",
            "Epoch 11/250\n",
            "60/60 [==============================] - 0s 583us/step - loss: 2.3726 - accuracy: 0.4167\n",
            "Epoch 12/250\n",
            "60/60 [==============================] - 0s 588us/step - loss: 2.2962 - accuracy: 0.4167\n",
            "Epoch 13/250\n",
            "60/60 [==============================] - 0s 556us/step - loss: 2.2539 - accuracy: 0.3333\n",
            "Epoch 14/250\n",
            "60/60 [==============================] - 0s 575us/step - loss: 2.1966 - accuracy: 0.5167\n",
            "Epoch 15/250\n",
            "60/60 [==============================] - 0s 613us/step - loss: 2.0409 - accuracy: 0.4833\n",
            "Epoch 16/250\n",
            "60/60 [==============================] - 0s 570us/step - loss: 2.0989 - accuracy: 0.4500\n",
            "Epoch 17/250\n",
            "60/60 [==============================] - 0s 588us/step - loss: 1.8708 - accuracy: 0.5667\n",
            "Epoch 18/250\n",
            "60/60 [==============================] - 0s 678us/step - loss: 1.8080 - accuracy: 0.6000\n",
            "Epoch 19/250\n",
            "60/60 [==============================] - 0s 632us/step - loss: 1.7639 - accuracy: 0.6333\n",
            "Epoch 20/250\n",
            "60/60 [==============================] - 0s 706us/step - loss: 1.8167 - accuracy: 0.6000\n",
            "Epoch 21/250\n",
            "60/60 [==============================] - 0s 558us/step - loss: 1.4778 - accuracy: 0.6833\n",
            "Epoch 22/250\n",
            "60/60 [==============================] - 0s 745us/step - loss: 1.5284 - accuracy: 0.6167\n",
            "Epoch 23/250\n",
            "60/60 [==============================] - 0s 646us/step - loss: 1.4262 - accuracy: 0.7167\n",
            "Epoch 24/250\n",
            "60/60 [==============================] - 0s 616us/step - loss: 1.3676 - accuracy: 0.6500\n",
            "Epoch 25/250\n",
            "60/60 [==============================] - 0s 637us/step - loss: 1.3352 - accuracy: 0.6833\n",
            "Epoch 26/250\n",
            "60/60 [==============================] - 0s 568us/step - loss: 1.1025 - accuracy: 0.8333\n",
            "Epoch 27/250\n",
            "60/60 [==============================] - 0s 576us/step - loss: 1.1791 - accuracy: 0.7167\n",
            "Epoch 28/250\n",
            "60/60 [==============================] - 0s 601us/step - loss: 1.1185 - accuracy: 0.7167\n",
            "Epoch 29/250\n",
            "60/60 [==============================] - 0s 581us/step - loss: 0.9798 - accuracy: 0.8167\n",
            "Epoch 30/250\n",
            "60/60 [==============================] - 0s 637us/step - loss: 0.8727 - accuracy: 0.8167\n",
            "Epoch 31/250\n",
            "60/60 [==============================] - 0s 570us/step - loss: 0.8402 - accuracy: 0.8333\n",
            "Epoch 32/250\n",
            "60/60 [==============================] - 0s 630us/step - loss: 0.8745 - accuracy: 0.7833\n",
            "Epoch 33/250\n",
            "60/60 [==============================] - 0s 628us/step - loss: 0.7485 - accuracy: 0.8667\n",
            "Epoch 34/250\n",
            "60/60 [==============================] - 0s 601us/step - loss: 0.7503 - accuracy: 0.8500\n",
            "Epoch 35/250\n",
            "60/60 [==============================] - 0s 597us/step - loss: 0.7124 - accuracy: 0.8833\n",
            "Epoch 36/250\n",
            "60/60 [==============================] - 0s 613us/step - loss: 0.7912 - accuracy: 0.8167\n",
            "Epoch 37/250\n",
            "60/60 [==============================] - 0s 594us/step - loss: 0.6237 - accuracy: 0.9000\n",
            "Epoch 38/250\n",
            "60/60 [==============================] - 0s 597us/step - loss: 0.6368 - accuracy: 0.9167\n",
            "Epoch 39/250\n",
            "60/60 [==============================] - 0s 559us/step - loss: 0.6567 - accuracy: 0.8333\n",
            "Epoch 40/250\n",
            "60/60 [==============================] - 0s 576us/step - loss: 0.5742 - accuracy: 0.9000\n",
            "Epoch 41/250\n",
            "60/60 [==============================] - 0s 593us/step - loss: 0.5742 - accuracy: 0.8167\n",
            "Epoch 42/250\n",
            "60/60 [==============================] - 0s 565us/step - loss: 0.5042 - accuracy: 0.8667\n",
            "Epoch 43/250\n",
            "60/60 [==============================] - 0s 574us/step - loss: 0.5135 - accuracy: 0.8500\n",
            "Epoch 44/250\n",
            "60/60 [==============================] - 0s 564us/step - loss: 0.6005 - accuracy: 0.8833\n",
            "Epoch 45/250\n",
            "60/60 [==============================] - 0s 565us/step - loss: 0.4275 - accuracy: 0.9333\n",
            "Epoch 46/250\n",
            "60/60 [==============================] - 0s 705us/step - loss: 0.4005 - accuracy: 0.9167\n",
            "Epoch 47/250\n",
            "60/60 [==============================] - 0s 686us/step - loss: 0.5811 - accuracy: 0.8167\n",
            "Epoch 48/250\n",
            "60/60 [==============================] - 0s 777us/step - loss: 0.5067 - accuracy: 0.9167\n",
            "Epoch 49/250\n",
            "60/60 [==============================] - 0s 571us/step - loss: 0.3220 - accuracy: 0.9500\n",
            "Epoch 50/250\n",
            "60/60 [==============================] - 0s 571us/step - loss: 0.3934 - accuracy: 0.9333\n",
            "Epoch 51/250\n",
            "60/60 [==============================] - 0s 573us/step - loss: 0.3393 - accuracy: 0.9000\n",
            "Epoch 52/250\n",
            "60/60 [==============================] - 0s 590us/step - loss: 0.3552 - accuracy: 0.9333\n",
            "Epoch 53/250\n",
            "60/60 [==============================] - 0s 583us/step - loss: 0.4134 - accuracy: 0.9167\n",
            "Epoch 54/250\n",
            "60/60 [==============================] - 0s 557us/step - loss: 0.4138 - accuracy: 0.8833\n",
            "Epoch 55/250\n",
            "60/60 [==============================] - 0s 570us/step - loss: 0.3742 - accuracy: 0.9333\n",
            "Epoch 56/250\n",
            "60/60 [==============================] - 0s 566us/step - loss: 0.3693 - accuracy: 0.9333\n",
            "Epoch 57/250\n",
            "60/60 [==============================] - 0s 561us/step - loss: 0.2760 - accuracy: 0.9667\n",
            "Epoch 58/250\n",
            "60/60 [==============================] - 0s 572us/step - loss: 0.3320 - accuracy: 0.9333\n",
            "Epoch 59/250\n",
            "60/60 [==============================] - 0s 565us/step - loss: 0.2647 - accuracy: 0.9167\n",
            "Epoch 60/250\n",
            "60/60 [==============================] - 0s 582us/step - loss: 0.2772 - accuracy: 0.9500\n",
            "Epoch 61/250\n",
            "60/60 [==============================] - 0s 594us/step - loss: 0.2885 - accuracy: 0.9500\n",
            "Epoch 62/250\n",
            "60/60 [==============================] - 0s 555us/step - loss: 0.2545 - accuracy: 0.9333\n",
            "Epoch 63/250\n",
            "60/60 [==============================] - 0s 574us/step - loss: 0.2745 - accuracy: 0.9500\n",
            "Epoch 64/250\n",
            "60/60 [==============================] - 0s 560us/step - loss: 0.2644 - accuracy: 0.9333\n",
            "Epoch 65/250\n",
            "60/60 [==============================] - 0s 570us/step - loss: 0.2652 - accuracy: 0.9500\n",
            "Epoch 66/250\n",
            "60/60 [==============================] - 0s 593us/step - loss: 0.2115 - accuracy: 0.9500\n",
            "Epoch 67/250\n",
            "60/60 [==============================] - 0s 594us/step - loss: 0.2308 - accuracy: 0.9500\n",
            "Epoch 68/250\n",
            "60/60 [==============================] - 0s 556us/step - loss: 0.3052 - accuracy: 0.9167\n",
            "Epoch 69/250\n",
            "60/60 [==============================] - 0s 556us/step - loss: 0.3389 - accuracy: 0.9167\n",
            "Epoch 70/250\n",
            "60/60 [==============================] - 0s 560us/step - loss: 0.2833 - accuracy: 0.9000\n",
            "Epoch 71/250\n",
            "60/60 [==============================] - 0s 570us/step - loss: 0.2213 - accuracy: 0.9333\n",
            "Epoch 72/250\n",
            "60/60 [==============================] - 0s 571us/step - loss: 0.2132 - accuracy: 0.9333\n",
            "Epoch 73/250\n",
            "60/60 [==============================] - 0s 593us/step - loss: 0.2676 - accuracy: 0.9500\n",
            "Epoch 74/250\n",
            "60/60 [==============================] - 0s 579us/step - loss: 0.2818 - accuracy: 0.9333\n",
            "Epoch 75/250\n",
            "60/60 [==============================] - 0s 762us/step - loss: 0.2998 - accuracy: 0.9500\n",
            "Epoch 76/250\n",
            "60/60 [==============================] - 0s 595us/step - loss: 0.2089 - accuracy: 0.9500\n",
            "Epoch 77/250\n",
            "60/60 [==============================] - 0s 562us/step - loss: 0.1540 - accuracy: 0.9833\n",
            "Epoch 78/250\n",
            "60/60 [==============================] - 0s 557us/step - loss: 0.2099 - accuracy: 0.9667\n",
            "Epoch 79/250\n",
            "60/60 [==============================] - 0s 677us/step - loss: 0.1933 - accuracy: 0.9667\n",
            "Epoch 80/250\n",
            "60/60 [==============================] - 0s 596us/step - loss: 0.2443 - accuracy: 0.9333\n",
            "Epoch 81/250\n",
            "60/60 [==============================] - 0s 565us/step - loss: 0.1435 - accuracy: 0.9667\n",
            "Epoch 82/250\n",
            "60/60 [==============================] - 0s 562us/step - loss: 0.1748 - accuracy: 0.9500\n",
            "Epoch 83/250\n",
            "60/60 [==============================] - 0s 553us/step - loss: 0.2281 - accuracy: 0.9667\n",
            "Epoch 84/250\n",
            "60/60 [==============================] - 0s 551us/step - loss: 0.1302 - accuracy: 0.9833\n",
            "Epoch 85/250\n",
            "60/60 [==============================] - 0s 566us/step - loss: 0.3125 - accuracy: 0.8833\n",
            "Epoch 86/250\n",
            "60/60 [==============================] - 0s 568us/step - loss: 0.1464 - accuracy: 1.0000\n",
            "Epoch 87/250\n",
            "60/60 [==============================] - 0s 566us/step - loss: 0.1477 - accuracy: 0.9667\n",
            "Epoch 88/250\n",
            "60/60 [==============================] - 0s 597us/step - loss: 0.2073 - accuracy: 0.9500\n",
            "Epoch 89/250\n",
            "60/60 [==============================] - 0s 872us/step - loss: 0.1466 - accuracy: 0.9667\n",
            "Epoch 90/250\n",
            "60/60 [==============================] - 0s 719us/step - loss: 0.2073 - accuracy: 0.9500\n",
            "Epoch 91/250\n",
            "60/60 [==============================] - 0s 752us/step - loss: 0.1061 - accuracy: 0.9833\n",
            "Epoch 92/250\n",
            "60/60 [==============================] - 0s 739us/step - loss: 0.1191 - accuracy: 0.9833\n",
            "Epoch 93/250\n",
            "60/60 [==============================] - 0s 800us/step - loss: 0.1001 - accuracy: 0.9667\n",
            "Epoch 94/250\n",
            "60/60 [==============================] - 0s 737us/step - loss: 0.1441 - accuracy: 0.9833\n",
            "Epoch 95/250\n",
            "60/60 [==============================] - 0s 730us/step - loss: 0.0875 - accuracy: 0.9833\n",
            "Epoch 96/250\n",
            "60/60 [==============================] - 0s 693us/step - loss: 0.1547 - accuracy: 0.9333\n",
            "Epoch 97/250\n",
            "60/60 [==============================] - 0s 687us/step - loss: 0.1386 - accuracy: 0.9500\n",
            "Epoch 98/250\n",
            "60/60 [==============================] - 0s 647us/step - loss: 0.1798 - accuracy: 0.9500\n",
            "Epoch 99/250\n",
            "60/60 [==============================] - 0s 898us/step - loss: 0.0891 - accuracy: 0.9833\n",
            "Epoch 100/250\n",
            "60/60 [==============================] - 0s 695us/step - loss: 0.1170 - accuracy: 0.9500\n",
            "Epoch 101/250\n",
            "60/60 [==============================] - 0s 709us/step - loss: 0.1353 - accuracy: 0.9667\n",
            "Epoch 102/250\n",
            "60/60 [==============================] - 0s 701us/step - loss: 0.1565 - accuracy: 0.9667\n",
            "Epoch 103/250\n",
            "60/60 [==============================] - 0s 668us/step - loss: 0.1122 - accuracy: 0.9667\n",
            "Epoch 104/250\n",
            "60/60 [==============================] - 0s 629us/step - loss: 0.1405 - accuracy: 0.9667\n",
            "Epoch 105/250\n",
            "60/60 [==============================] - 0s 610us/step - loss: 0.0833 - accuracy: 1.0000\n",
            "Epoch 106/250\n",
            "60/60 [==============================] - 0s 578us/step - loss: 0.1624 - accuracy: 0.9667\n",
            "Epoch 107/250\n",
            "60/60 [==============================] - 0s 555us/step - loss: 0.0760 - accuracy: 0.9833\n",
            "Epoch 108/250\n",
            "60/60 [==============================] - 0s 586us/step - loss: 0.0646 - accuracy: 1.0000\n",
            "Epoch 109/250\n",
            "60/60 [==============================] - 0s 581us/step - loss: 0.1334 - accuracy: 0.9500\n",
            "Epoch 110/250\n",
            "60/60 [==============================] - 0s 576us/step - loss: 0.0945 - accuracy: 0.9833\n",
            "Epoch 111/250\n",
            "60/60 [==============================] - 0s 580us/step - loss: 0.1241 - accuracy: 0.9667\n",
            "Epoch 112/250\n",
            "60/60 [==============================] - 0s 559us/step - loss: 0.1060 - accuracy: 0.9667\n",
            "Epoch 113/250\n",
            "60/60 [==============================] - 0s 564us/step - loss: 0.0648 - accuracy: 1.0000\n",
            "Epoch 114/250\n",
            "60/60 [==============================] - 0s 562us/step - loss: 0.0934 - accuracy: 1.0000\n",
            "Epoch 115/250\n",
            "60/60 [==============================] - 0s 576us/step - loss: 0.1321 - accuracy: 0.9500\n",
            "Epoch 116/250\n",
            "60/60 [==============================] - 0s 591us/step - loss: 0.0696 - accuracy: 1.0000\n",
            "Epoch 117/250\n",
            "60/60 [==============================] - 0s 557us/step - loss: 0.1525 - accuracy: 0.9500\n",
            "Epoch 118/250\n",
            "60/60 [==============================] - 0s 587us/step - loss: 0.0857 - accuracy: 0.9833\n",
            "Epoch 119/250\n",
            "60/60 [==============================] - 0s 567us/step - loss: 0.1206 - accuracy: 0.9833\n",
            "Epoch 120/250\n",
            "60/60 [==============================] - 0s 556us/step - loss: 0.1760 - accuracy: 0.9000\n",
            "Epoch 121/250\n",
            "60/60 [==============================] - 0s 562us/step - loss: 0.0732 - accuracy: 0.9833\n",
            "Epoch 122/250\n",
            "60/60 [==============================] - 0s 586us/step - loss: 0.1156 - accuracy: 0.9833\n",
            "Epoch 123/250\n",
            "60/60 [==============================] - 0s 563us/step - loss: 0.1426 - accuracy: 0.9500\n",
            "Epoch 124/250\n",
            "60/60 [==============================] - 0s 598us/step - loss: 0.0500 - accuracy: 1.0000\n",
            "Epoch 125/250\n",
            "60/60 [==============================] - 0s 585us/step - loss: 0.0988 - accuracy: 0.9667\n",
            "Epoch 126/250\n",
            "60/60 [==============================] - 0s 782us/step - loss: 0.0851 - accuracy: 0.9833\n",
            "Epoch 127/250\n",
            "60/60 [==============================] - 0s 575us/step - loss: 0.0806 - accuracy: 0.9667\n",
            "Epoch 128/250\n",
            "60/60 [==============================] - 0s 588us/step - loss: 0.0737 - accuracy: 0.9833\n",
            "Epoch 129/250\n",
            "60/60 [==============================] - 0s 555us/step - loss: 0.0663 - accuracy: 0.9833\n",
            "Epoch 130/250\n",
            "60/60 [==============================] - 0s 619us/step - loss: 0.0381 - accuracy: 1.0000\n",
            "Epoch 131/250\n",
            "60/60 [==============================] - 0s 574us/step - loss: 0.1225 - accuracy: 0.9667\n",
            "Epoch 132/250\n",
            "60/60 [==============================] - 0s 584us/step - loss: 0.0908 - accuracy: 0.9833\n",
            "Epoch 133/250\n",
            "60/60 [==============================] - 0s 574us/step - loss: 0.0714 - accuracy: 1.0000\n",
            "Epoch 134/250\n",
            "60/60 [==============================] - 0s 575us/step - loss: 0.0750 - accuracy: 0.9833\n",
            "Epoch 135/250\n",
            "60/60 [==============================] - 0s 596us/step - loss: 0.0542 - accuracy: 0.9833\n",
            "Epoch 136/250\n",
            "60/60 [==============================] - 0s 595us/step - loss: 0.0962 - accuracy: 0.9667\n",
            "Epoch 137/250\n",
            "60/60 [==============================] - 0s 562us/step - loss: 0.1081 - accuracy: 0.9667\n",
            "Epoch 138/250\n",
            "60/60 [==============================] - 0s 618us/step - loss: 0.1708 - accuracy: 0.9500\n",
            "Epoch 139/250\n",
            "60/60 [==============================] - 0s 574us/step - loss: 0.0511 - accuracy: 1.0000\n",
            "Epoch 140/250\n",
            "60/60 [==============================] - 0s 599us/step - loss: 0.0992 - accuracy: 0.9833\n",
            "Epoch 141/250\n",
            "60/60 [==============================] - 0s 574us/step - loss: 0.0524 - accuracy: 0.9833\n",
            "Epoch 142/250\n",
            "60/60 [==============================] - 0s 560us/step - loss: 0.1037 - accuracy: 0.9833\n",
            "Epoch 143/250\n",
            "60/60 [==============================] - 0s 562us/step - loss: 0.0410 - accuracy: 1.0000\n",
            "Epoch 144/250\n",
            "60/60 [==============================] - 0s 568us/step - loss: 0.0635 - accuracy: 1.0000\n",
            "Epoch 145/250\n",
            "60/60 [==============================] - 0s 562us/step - loss: 0.1039 - accuracy: 0.9833\n",
            "Epoch 146/250\n",
            "60/60 [==============================] - 0s 578us/step - loss: 0.0421 - accuracy: 1.0000\n",
            "Epoch 147/250\n",
            "60/60 [==============================] - 0s 551us/step - loss: 0.0689 - accuracy: 1.0000\n",
            "Epoch 148/250\n",
            "60/60 [==============================] - 0s 552us/step - loss: 0.0580 - accuracy: 1.0000\n",
            "Epoch 149/250\n",
            "60/60 [==============================] - 0s 590us/step - loss: 0.1082 - accuracy: 0.9667\n",
            "Epoch 150/250\n",
            "60/60 [==============================] - 0s 570us/step - loss: 0.0290 - accuracy: 1.0000\n",
            "Epoch 151/250\n",
            "60/60 [==============================] - 0s 576us/step - loss: 0.0909 - accuracy: 0.9833\n",
            "Epoch 152/250\n",
            "60/60 [==============================] - 0s 566us/step - loss: 0.0471 - accuracy: 0.9833\n",
            "Epoch 153/250\n",
            "60/60 [==============================] - 0s 797us/step - loss: 0.0381 - accuracy: 1.0000\n",
            "Epoch 154/250\n",
            "60/60 [==============================] - 0s 581us/step - loss: 0.0967 - accuracy: 0.9667\n",
            "Epoch 155/250\n",
            "60/60 [==============================] - 0s 584us/step - loss: 0.0859 - accuracy: 0.9833\n",
            "Epoch 156/250\n",
            "60/60 [==============================] - 0s 661us/step - loss: 0.0795 - accuracy: 0.9667\n",
            "Epoch 157/250\n",
            "60/60 [==============================] - 0s 560us/step - loss: 0.0830 - accuracy: 0.9667\n",
            "Epoch 158/250\n",
            "60/60 [==============================] - 0s 563us/step - loss: 0.0372 - accuracy: 1.0000\n",
            "Epoch 159/250\n",
            "60/60 [==============================] - 0s 569us/step - loss: 0.0620 - accuracy: 0.9833\n",
            "Epoch 160/250\n",
            "60/60 [==============================] - 0s 580us/step - loss: 0.0918 - accuracy: 0.9833\n",
            "Epoch 161/250\n",
            "60/60 [==============================] - 0s 701us/step - loss: 0.0481 - accuracy: 0.9833\n",
            "Epoch 162/250\n",
            "60/60 [==============================] - 0s 715us/step - loss: 0.0641 - accuracy: 1.0000\n",
            "Epoch 163/250\n",
            "60/60 [==============================] - 0s 711us/step - loss: 0.1294 - accuracy: 0.9667\n",
            "Epoch 164/250\n",
            "60/60 [==============================] - 0s 586us/step - loss: 0.0495 - accuracy: 0.9833\n",
            "Epoch 165/250\n",
            "60/60 [==============================] - 0s 669us/step - loss: 0.0610 - accuracy: 0.9667\n",
            "Epoch 166/250\n",
            "60/60 [==============================] - 0s 714us/step - loss: 0.0191 - accuracy: 1.0000\n",
            "Epoch 167/250\n",
            "60/60 [==============================] - 0s 725us/step - loss: 0.0718 - accuracy: 0.9667\n",
            "Epoch 168/250\n",
            "60/60 [==============================] - 0s 698us/step - loss: 0.0666 - accuracy: 0.9833\n",
            "Epoch 169/250\n",
            "60/60 [==============================] - 0s 715us/step - loss: 0.0366 - accuracy: 1.0000\n",
            "Epoch 170/250\n",
            "60/60 [==============================] - 0s 720us/step - loss: 0.0990 - accuracy: 0.9500\n",
            "Epoch 171/250\n",
            "60/60 [==============================] - 0s 720us/step - loss: 0.0445 - accuracy: 0.9833\n",
            "Epoch 172/250\n",
            "60/60 [==============================] - 0s 753us/step - loss: 0.1360 - accuracy: 0.9833\n",
            "Epoch 173/250\n",
            "60/60 [==============================] - 0s 712us/step - loss: 0.0435 - accuracy: 1.0000\n",
            "Epoch 174/250\n",
            "60/60 [==============================] - 0s 708us/step - loss: 0.0578 - accuracy: 0.9833\n",
            "Epoch 175/250\n",
            "60/60 [==============================] - 0s 634us/step - loss: 0.1122 - accuracy: 0.9667\n",
            "Epoch 176/250\n",
            "60/60 [==============================] - 0s 619us/step - loss: 0.0457 - accuracy: 1.0000\n",
            "Epoch 177/250\n",
            "60/60 [==============================] - 0s 746us/step - loss: 0.0448 - accuracy: 1.0000\n",
            "Epoch 178/250\n",
            "60/60 [==============================] - 0s 586us/step - loss: 0.1394 - accuracy: 0.9500\n",
            "Epoch 179/250\n",
            "60/60 [==============================] - 0s 554us/step - loss: 0.0478 - accuracy: 1.0000\n",
            "Epoch 180/250\n",
            "60/60 [==============================] - 0s 559us/step - loss: 0.0532 - accuracy: 1.0000\n",
            "Epoch 181/250\n",
            "60/60 [==============================] - 0s 581us/step - loss: 0.0266 - accuracy: 1.0000\n",
            "Epoch 182/250\n",
            "60/60 [==============================] - 0s 560us/step - loss: 0.0641 - accuracy: 0.9833\n",
            "Epoch 183/250\n",
            "60/60 [==============================] - 0s 569us/step - loss: 0.0322 - accuracy: 0.9833\n",
            "Epoch 184/250\n",
            "60/60 [==============================] - 0s 558us/step - loss: 0.1033 - accuracy: 0.9667\n",
            "Epoch 185/250\n",
            "60/60 [==============================] - 0s 567us/step - loss: 0.0866 - accuracy: 0.9667\n",
            "Epoch 186/250\n",
            "60/60 [==============================] - 0s 577us/step - loss: 0.0622 - accuracy: 1.0000\n",
            "Epoch 187/250\n",
            "60/60 [==============================] - 0s 577us/step - loss: 0.0540 - accuracy: 1.0000\n",
            "Epoch 188/250\n",
            "60/60 [==============================] - 0s 559us/step - loss: 0.0434 - accuracy: 0.9833\n",
            "Epoch 189/250\n",
            "60/60 [==============================] - 0s 555us/step - loss: 0.0886 - accuracy: 0.9500\n",
            "Epoch 190/250\n",
            "60/60 [==============================] - 0s 571us/step - loss: 0.0208 - accuracy: 1.0000\n",
            "Epoch 191/250\n",
            "60/60 [==============================] - 0s 562us/step - loss: 0.0368 - accuracy: 0.9833\n",
            "Epoch 192/250\n",
            "60/60 [==============================] - 0s 601us/step - loss: 0.0985 - accuracy: 0.9833\n",
            "Epoch 193/250\n",
            "60/60 [==============================] - 0s 564us/step - loss: 0.0553 - accuracy: 0.9833\n",
            "Epoch 194/250\n",
            "60/60 [==============================] - 0s 561us/step - loss: 0.0689 - accuracy: 1.0000\n",
            "Epoch 195/250\n",
            "60/60 [==============================] - 0s 570us/step - loss: 0.0365 - accuracy: 1.0000\n",
            "Epoch 196/250\n",
            "60/60 [==============================] - 0s 566us/step - loss: 0.0519 - accuracy: 0.9833\n",
            "Epoch 197/250\n",
            "60/60 [==============================] - 0s 595us/step - loss: 0.0910 - accuracy: 0.9667\n",
            "Epoch 198/250\n",
            "60/60 [==============================] - 0s 550us/step - loss: 0.0662 - accuracy: 0.9667\n",
            "Epoch 199/250\n",
            "60/60 [==============================] - 0s 560us/step - loss: 0.0496 - accuracy: 1.0000\n",
            "Epoch 200/250\n",
            "60/60 [==============================] - 0s 549us/step - loss: 0.0731 - accuracy: 0.9833\n",
            "Epoch 201/250\n",
            "60/60 [==============================] - 0s 565us/step - loss: 0.0421 - accuracy: 0.9833\n",
            "Epoch 202/250\n",
            "60/60 [==============================] - 0s 568us/step - loss: 0.0572 - accuracy: 0.9833\n",
            "Epoch 203/250\n",
            "60/60 [==============================] - 0s 561us/step - loss: 0.0476 - accuracy: 0.9833\n",
            "Epoch 204/250\n",
            "60/60 [==============================] - 0s 733us/step - loss: 0.0254 - accuracy: 1.0000\n",
            "Epoch 205/250\n",
            "60/60 [==============================] - 0s 626us/step - loss: 0.0600 - accuracy: 0.9833\n",
            "Epoch 206/250\n",
            "60/60 [==============================] - 0s 601us/step - loss: 0.0780 - accuracy: 0.9833\n",
            "Epoch 207/250\n",
            "60/60 [==============================] - 0s 557us/step - loss: 0.0571 - accuracy: 0.9833\n",
            "Epoch 208/250\n",
            "60/60 [==============================] - 0s 570us/step - loss: 0.0734 - accuracy: 0.9667\n",
            "Epoch 209/250\n",
            "60/60 [==============================] - 0s 559us/step - loss: 0.0472 - accuracy: 0.9833\n",
            "Epoch 210/250\n",
            "60/60 [==============================] - 0s 557us/step - loss: 0.0339 - accuracy: 1.0000\n",
            "Epoch 211/250\n",
            "60/60 [==============================] - 0s 574us/step - loss: 0.0606 - accuracy: 1.0000\n",
            "Epoch 212/250\n",
            "60/60 [==============================] - 0s 582us/step - loss: 0.0165 - accuracy: 1.0000\n",
            "Epoch 213/250\n",
            "60/60 [==============================] - 0s 589us/step - loss: 0.0440 - accuracy: 0.9833\n",
            "Epoch 214/250\n",
            "60/60 [==============================] - 0s 548us/step - loss: 0.0429 - accuracy: 0.9833\n",
            "Epoch 215/250\n",
            "60/60 [==============================] - 0s 581us/step - loss: 0.0242 - accuracy: 1.0000\n",
            "Epoch 216/250\n",
            "60/60 [==============================] - 0s 563us/step - loss: 0.0167 - accuracy: 1.0000\n",
            "Epoch 217/250\n",
            "60/60 [==============================] - 0s 566us/step - loss: 0.0633 - accuracy: 0.9667\n",
            "Epoch 218/250\n",
            "60/60 [==============================] - 0s 578us/step - loss: 0.0597 - accuracy: 0.9667\n",
            "Epoch 219/250\n",
            "60/60 [==============================] - 0s 577us/step - loss: 0.0203 - accuracy: 1.0000\n",
            "Epoch 220/250\n",
            "60/60 [==============================] - 0s 563us/step - loss: 0.0200 - accuracy: 1.0000\n",
            "Epoch 221/250\n",
            "60/60 [==============================] - 0s 561us/step - loss: 0.0412 - accuracy: 1.0000\n",
            "Epoch 222/250\n",
            "60/60 [==============================] - 0s 598us/step - loss: 0.0189 - accuracy: 1.0000\n",
            "Epoch 223/250\n",
            "60/60 [==============================] - 0s 635us/step - loss: 0.0293 - accuracy: 0.9833\n",
            "Epoch 224/250\n",
            "60/60 [==============================] - 0s 578us/step - loss: 0.0151 - accuracy: 1.0000\n",
            "Epoch 225/250\n",
            "60/60 [==============================] - 0s 622us/step - loss: 0.0841 - accuracy: 0.9833\n",
            "Epoch 226/250\n",
            "60/60 [==============================] - 0s 590us/step - loss: 0.0668 - accuracy: 0.9833\n",
            "Epoch 227/250\n",
            "60/60 [==============================] - 0s 657us/step - loss: 0.0629 - accuracy: 0.9833\n",
            "Epoch 228/250\n",
            "60/60 [==============================] - 0s 578us/step - loss: 0.0247 - accuracy: 0.9833\n",
            "Epoch 229/250\n",
            "60/60 [==============================] - 0s 584us/step - loss: 0.0348 - accuracy: 1.0000\n",
            "Epoch 230/250\n",
            "60/60 [==============================] - 0s 756us/step - loss: 0.0342 - accuracy: 0.9833\n",
            "Epoch 231/250\n",
            "60/60 [==============================] - 0s 702us/step - loss: 0.0429 - accuracy: 1.0000\n",
            "Epoch 232/250\n",
            "60/60 [==============================] - 0s 562us/step - loss: 0.0319 - accuracy: 1.0000\n",
            "Epoch 233/250\n",
            "60/60 [==============================] - 0s 551us/step - loss: 0.0244 - accuracy: 1.0000\n",
            "Epoch 234/250\n",
            "60/60 [==============================] - 0s 569us/step - loss: 0.0212 - accuracy: 1.0000\n",
            "Epoch 235/250\n",
            "60/60 [==============================] - 0s 583us/step - loss: 0.0678 - accuracy: 0.9667\n",
            "Epoch 236/250\n",
            "60/60 [==============================] - 0s 569us/step - loss: 0.0199 - accuracy: 1.0000\n",
            "Epoch 237/250\n",
            "60/60 [==============================] - 0s 612us/step - loss: 0.0429 - accuracy: 1.0000\n",
            "Epoch 238/250\n",
            "60/60 [==============================] - 0s 617us/step - loss: 0.0258 - accuracy: 0.9833\n",
            "Epoch 239/250\n",
            "60/60 [==============================] - 0s 598us/step - loss: 0.0656 - accuracy: 0.9833\n",
            "Epoch 240/250\n",
            "60/60 [==============================] - 0s 617us/step - loss: 0.0330 - accuracy: 1.0000\n",
            "Epoch 241/250\n",
            "60/60 [==============================] - 0s 594us/step - loss: 0.0637 - accuracy: 0.9667\n",
            "Epoch 242/250\n",
            "60/60 [==============================] - 0s 592us/step - loss: 0.0569 - accuracy: 0.9833\n",
            "Epoch 243/250\n",
            "60/60 [==============================] - 0s 573us/step - loss: 0.0120 - accuracy: 1.0000\n",
            "Epoch 244/250\n",
            "60/60 [==============================] - 0s 585us/step - loss: 0.0265 - accuracy: 1.0000\n",
            "Epoch 245/250\n",
            "60/60 [==============================] - 0s 568us/step - loss: 0.0611 - accuracy: 0.9667\n",
            "Epoch 246/250\n",
            "60/60 [==============================] - 0s 590us/step - loss: 0.0203 - accuracy: 1.0000\n",
            "Epoch 247/250\n",
            "60/60 [==============================] - 0s 570us/step - loss: 0.0210 - accuracy: 1.0000\n",
            "Epoch 248/250\n",
            "60/60 [==============================] - 0s 585us/step - loss: 0.0459 - accuracy: 1.0000\n",
            "Epoch 249/250\n",
            "60/60 [==============================] - 0s 556us/step - loss: 0.0302 - accuracy: 0.9833\n",
            "Epoch 250/250\n",
            "60/60 [==============================] - 0s 577us/step - loss: 0.0237 - accuracy: 1.0000\n"
          ],
          "name": "stdout"
        },
        {
          "output_type": "execute_result",
          "data": {
            "text/plain": [
              "<keras.callbacks.callbacks.History at 0x7f8f404f7dd8>"
            ]
          },
          "metadata": {
            "tags": []
          },
          "execution_count": 10
        }
      ]
    },
    {
      "cell_type": "code",
      "metadata": {
        "id": "7L-jsT8klSJd",
        "colab_type": "code",
        "colab": {}
      },
      "source": [
        "model.save(os.path.join(path,\"chatbot.h5\"))\n"
      ],
      "execution_count": 11,
      "outputs": []
    }
  ]
}